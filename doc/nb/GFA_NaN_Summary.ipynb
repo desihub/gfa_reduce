{
 "cells": [
  {
   "cell_type": "markdown",
   "id": "ad524ae8-4ce5-4870-a4be-7fbe69646191",
   "metadata": {},
   "source": [
    "# Analyze NaN in GFA Summary Files"
   ]
  },
  {
   "cell_type": "code",
   "execution_count": 1,
   "id": "79dd1cf6-668f-4e21-b054-05ff354cee08",
   "metadata": {},
   "outputs": [],
   "source": [
    "import os\n",
    "import numpy as np\n",
    "from astropy.io import fits\n",
    "from astropy.table import Table\n",
    "gfa_dir = os.path.join(os.environ['DESI_ROOT'], 'survey', 'GFA')\n",
    "sv1_gfa_file = os.path.join(gfa_dir, 'offline_matched_coadd_ccds_SV1-thru_20210928.fits')\n",
    "main_gfa_file = os.path.join(gfa_dir, 'offline_matched_coadd_ccds_main-thru_20240828.fits')"
   ]
  },
  {
   "cell_type": "code",
   "execution_count": 2,
   "id": "113a40af-76a2-4172-a46e-1228b4916dc9",
   "metadata": {},
   "outputs": [],
   "source": [
    "with fits.open(sv1_gfa_file, mode='readonly') as hdulist:\n",
    "    sv1_gfa_data = hdulist[2].data\n",
    "with fits.open(main_gfa_file, mode='readonly') as hdulist:\n",
    "    main_gfa_data = hdulist[2].data"
   ]
  },
  {
   "cell_type": "code",
   "execution_count": 3,
   "id": "9c56e8fe-033e-416c-ba05-1ddc1883c248",
   "metadata": {},
   "outputs": [],
   "source": [
    "gfa_nan_summary = dict()\n",
    "# EXPID, NIGHT, In SV1, In main, TRANSPARENCY,\n",
    "columns_from_gfa = (\"TRANSPARENCY\", \"FWHM_ASEC\", \"FIBER_FRACFLUX\", \"FIBER_FRACFLUX_ELG\",\n",
    "                    \"FIBER_FRACFLUX_BGS\", \"FIBERFAC\", \"FIBERFAC_ELG\", \"FIBERFAC_BGS\",\n",
    "                    \"SKY_MAG_AB\", \"AIRMASS\")\n",
    "for column in columns_from_gfa:\n",
    "    w_sv1 = np.where(~np.isfinite(sv1_gfa_data[column]))[0]\n",
    "    if len(w_sv1) > 0:\n",
    "        # print('{0} NaN found in column {1} for SV1.'.format(len(w_sv1), column))\n",
    "        sv1_expid = sv1_gfa_data['EXPID'][w_sv1].tolist()\n",
    "        sv1_night = sv1_gfa_data['NIGHT'][w_sv1].tolist()\n",
    "        for i, expid in enumerate(sv1_expid):\n",
    "            if expid in gfa_nan_summary:\n",
    "                assert sv1_night[i] == gfa_nan_summary[expid]['night']\n",
    "                gfa_nan_summary[expid]['sv1_nan'].append(column)\n",
    "            else:\n",
    "                gfa_nan_summary[expid] = {'night': sv1_night[i],\n",
    "                                          'sv1_nan': [column],\n",
    "                                          'main_nan': []}\n",
    "\n",
    "    w_main = np.where(~np.isfinite(main_gfa_data[column]))[0]\n",
    "    if len(w_main) > 0:\n",
    "        # print('{0} NaN found in column {1} for main.'.format(len(w_main), column))\n",
    "        main_expid = main_gfa_data['EXPID'][w_main].tolist()\n",
    "        main_night = main_gfa_data['NIGHT'][w_main].tolist()\n",
    "        for i, expid in enumerate(main_expid):\n",
    "            if expid in gfa_nan_summary:\n",
    "                assert main_night[i] == gfa_nan_summary[expid]['night']\n",
    "                gfa_nan_summary[expid]['main_nan'].append(column)\n",
    "            else:\n",
    "                gfa_nan_summary[expid] = {'night': main_night[i],\n",
    "                                          'sv1_nan': [],\n",
    "                                          'main_nan': [column]}"
   ]
  },
  {
   "cell_type": "code",
   "execution_count": 4,
   "id": "6ab72b2d-0f63-4093-9644-f280c77e6bd6",
   "metadata": {},
   "outputs": [],
   "source": [
    "# print(gfa_nan_summary)\n",
    "summary_columns = ['EXPID', 'NIGHT'] + sorted(columns_from_gfa)\n",
    "summary_table = dict([(c, list()) for c in summary_columns])\n",
    "for expid in sorted(gfa_nan_summary.keys()):\n",
    "    summary_table['EXPID'].append(expid)\n",
    "    summary_table['NIGHT'].append(gfa_nan_summary[expid]['night'])\n",
    "    if gfa_nan_summary[expid]['sv1_nan'] and gfa_nan_summary[expid]['main_nan']:\n",
    "        assert len(gfa_nan_summary[expid]['sv1_nan']) == len(gfa_nan_summary[expid]['main_nan'])\n",
    "        assert tuple(sorted(gfa_nan_summary[expid]['sv1_nan'])) == tuple(sorted(gfa_nan_summary[expid]['main_nan']))\n",
    "        entries = 2\n",
    "    else:\n",
    "        entries = 1\n",
    "    for column in columns_from_gfa:\n",
    "        if column in gfa_nan_summary[expid]['sv1_nan'] or column in gfa_nan_summary[expid]['main_nan']:\n",
    "            summary_table[column].append(entries)\n",
    "        else:\n",
    "            summary_table[column].append(0)\n",
    "# print(summary_table)"
   ]
  },
  {
   "cell_type": "code",
   "execution_count": 5,
   "id": "d1d8c3eb-0368-48a2-8ca3-2021acf03557",
   "metadata": {
    "tags": []
   },
   "outputs": [],
   "source": [
    "t = Table()\n",
    "for c in summary_columns:\n",
    "    t[c] = np.array(summary_table[c])\n",
    "t.write(os.path.join(os.environ['DESI_ROOT'], 'users', os.environ['USER'], 'gfa_nan_summary.csv'), format='ascii.csv')"
   ]
  }
 ],
 "metadata": {
  "kernelspec": {
   "display_name": "DESI main",
   "language": "python",
   "name": "desi-main"
  },
  "language_info": {
   "codemirror_mode": {
    "name": "ipython",
    "version": 3
   },
   "file_extension": ".py",
   "mimetype": "text/x-python",
   "name": "python",
   "nbconvert_exporter": "python",
   "pygments_lexer": "ipython3",
   "version": "3.10.14"
  }
 },
 "nbformat": 4,
 "nbformat_minor": 5
}
