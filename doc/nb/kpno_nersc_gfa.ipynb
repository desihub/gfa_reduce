{
 "cells": [
  {
   "cell_type": "markdown",
   "id": "e553a034-5d77-4ba0-b3c6-d921c550e71b",
   "metadata": {},
   "source": [
    "# Comparing KPNO and NERSC GFA file reductions\n",
    "\n",
    "## Imports"
   ]
  },
  {
   "cell_type": "code",
   "execution_count": null,
   "id": "27c97b19-46e0-4ed0-823e-1f17bdf7f947",
   "metadata": {
    "tags": []
   },
   "outputs": [],
   "source": [
    "%matplotlib inline\n",
    "import os\n",
    "import numpy as np\n",
    "from astropy.io import fits\n",
    "import matplotlib.pyplot as plt"
   ]
  },
  {
   "cell_type": "markdown",
   "id": "51956223-ea48-455f-a738-1af8ff53f09d",
   "metadata": {},
   "source": [
    "## Adjust these values as needed"
   ]
  },
  {
   "cell_type": "code",
   "execution_count": null,
   "id": "1e834b2c-0b67-4c81-a1b3-0ecd8ee84997",
   "metadata": {
    "tags": []
   },
   "outputs": [],
   "source": [
    "night = 20240113  # Identify the specific file to compare.\n",
    "nightMin = 20230830  # Start date for comparison.\n",
    "nightMax = 20400101  # Arbitrary date in the future.\n",
    "plot_value = 'TRANSPARENCY'  # Compare this value."
   ]
  },
  {
   "cell_type": "markdown",
   "id": "5a938530-6c42-44f8-8812-1d47c66db1b2",
   "metadata": {},
   "source": [
    "## Load files"
   ]
  },
  {
   "cell_type": "code",
   "execution_count": null,
   "id": "c6858ac3-90c8-4219-8ca8-181eb5cf2909",
   "metadata": {
    "tags": []
   },
   "outputs": [],
   "source": [
    "with fits.open(os.path.join(os.environ['DESI_ROOT'], 'survey', 'GFA', f'offline_matched_coadd_ccds_SV3-thru_{night:d}.fits'), mode='readonly') as hdulist:\n",
    "    kpno = hdulist[2].data\n",
    "with fits.open(os.path.join(os.environ['DESI_ROOT'], 'users', 'desi', 'GFA', 'summary_files', f'offline_matched_coadd_ccds_SV3-thru_{night:d}.fits'), mode='readonly') as hdulist:\n",
    "    nersc = hdulist[2].data"
   ]
  },
  {
   "cell_type": "markdown",
   "id": "6d1b39bf-f1ff-4e01-a316-2edcf9077652",
   "metadata": {},
   "source": [
    "## Set range of nights"
   ]
  },
  {
   "cell_type": "code",
   "execution_count": null,
   "id": "95bbdaa2-187e-4e9b-b23c-9c2e6f079962",
   "metadata": {
    "tags": []
   },
   "outputs": [],
   "source": [
    "i = np.where((nersc['NIGHT'] >= nightMin) & (nersc['NIGHT'] < nightMax))[0]\n",
    "assert (nersc[i]['EXPID'] == kpno[i]['EXPID']).all()  # Are the EXPIDs identical?\n",
    "assert (nersc[i]['EXPID'] == sorted(nersc[i]['EXPID'])).all()  # Are the EXPIDs in strictly ascending order?\n",
    "nightMax = nersc[i]['NIGHT'].max()"
   ]
  },
  {
   "cell_type": "markdown",
   "id": "3f7a437f-e138-445c-92a2-6295af6db642",
   "metadata": {},
   "source": [
    "## Compute Difference"
   ]
  },
  {
   "cell_type": "code",
   "execution_count": null,
   "id": "459b6e78-bc1e-497d-bded-533365b7301f",
   "metadata": {
    "tags": []
   },
   "outputs": [],
   "source": [
    "relative_difference = (kpno[i][plot_value] - nersc[i][plot_value])/nersc[i][plot_value]\n",
    "yMin, yMax = relative_difference.min(), relative_difference.max()\n",
    "yMin, yMax"
   ]
  },
  {
   "cell_type": "markdown",
   "id": "4b7da32d-0a7f-458e-ba1e-fb4c8401abfb",
   "metadata": {},
   "source": [
    "## Plot relative difference versus EXPID"
   ]
  },
  {
   "cell_type": "code",
   "execution_count": null,
   "id": "e220c29b-ae18-4151-a5ef-5422aaf52e29",
   "metadata": {
    "tags": []
   },
   "outputs": [],
   "source": [
    "figure, axes = plt.subplots(nrows=1, ncols=1, figsize=(16,9), dpi=100)\n",
    "pl = axes.plot(nersc[i]['EXPID'], relative_difference, 'k-', label=plot_value)\n",
    "foo = axes.set_ylim([-0.06, 0.05])\n",
    "foo = axes.set_xlabel(\"EXPID\")\n",
    "foo = axes.set_ylabel(\"Relative Difference [(KPNO - NERSC)/NERSC]\")\n",
    "foo = axes.set_title(f\"Comparing {plot_value}, {nightMin:d} to {nightMax:d}\")\n",
    "foo = axes.grid(True)\n",
    "figure.savefig(f'kpno_nersc_gfa_relative_{plot_value.lower()}.png')"
   ]
  },
  {
   "cell_type": "markdown",
   "id": "49895d40-2c67-431b-8ac7-8b26f646ea02",
   "metadata": {},
   "source": [
    "## Relative difference histogram"
   ]
  },
  {
   "cell_type": "code",
   "execution_count": null,
   "id": "7253c73f-3aef-4d04-8acb-0f12c96b5b10",
   "metadata": {
    "tags": []
   },
   "outputs": [],
   "source": [
    "figure, axes = plt.subplots(nrows=1, ncols=1, figsize=(16,9), dpi=100)\n",
    "n, x = np.histogram(relative_difference, bins=50)\n",
    "pl = axes.step(x[0:50], n, 'k-') # , width=1, align='edge', color='w', edgecolor='k', label=plot_value)\n",
    "foo = axes.set_xlim([-0.06, 0.05])\n",
    "foo = axes.set_xlabel(\"Relative Difference [(KPNO - NERSC)/NERSC]\")\n",
    "foo = axes.set_ylabel(\"N\")\n",
    "foo = axes.set_title(f\"Comparing {plot_value}\")\n",
    "foo = axes.grid(True)\n",
    "figure.savefig(f'kpno_nersc_gfa_histogram_{plot_value.lower()}.png')"
   ]
  },
  {
   "cell_type": "code",
   "execution_count": null,
   "id": "54a0d613-1609-4848-ae9e-2f29db944376",
   "metadata": {},
   "outputs": [],
   "source": []
  },
  {
   "cell_type": "code",
   "execution_count": null,
   "id": "c9f16dce-c831-418f-9c22-71a9e5ca3223",
   "metadata": {},
   "outputs": [],
   "source": []
  }
 ],
 "metadata": {
  "kernelspec": {
   "display_name": "DESI 23.1",
   "language": "python",
   "name": "desi-23.1"
  },
  "language_info": {
   "codemirror_mode": {
    "name": "ipython",
    "version": 3
   },
   "file_extension": ".py",
   "mimetype": "text/x-python",
   "name": "python",
   "nbconvert_exporter": "python",
   "pygments_lexer": "ipython3",
   "version": "3.10.8"
  }
 },
 "nbformat": 4,
 "nbformat_minor": 5
}
